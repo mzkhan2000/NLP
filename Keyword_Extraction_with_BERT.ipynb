{
  "nbformat": 4,
  "nbformat_minor": 0,
  "metadata": {
    "colab": {
      "name": "Keyword Extraction with BERT.ipynb",
      "provenance": [],
      "authorship_tag": "ABX9TyOJ3ZM0kCOi/GLfjYLJJD2K",
      "include_colab_link": true
    },
    "kernelspec": {
      "name": "python3",
      "display_name": "Python 3"
    },
    "language_info": {
      "name": "python"
    }
  },
  "cells": [
    {
      "cell_type": "markdown",
      "metadata": {
        "id": "view-in-github",
        "colab_type": "text"
      },
      "source": [
        "<a href=\"https://colab.research.google.com/github/mzkhan2000/NLP/blob/main/Keyword_Extraction_with_BERT.ipynb\" target=\"_parent\"><img src=\"https://colab.research.google.com/assets/colab-badge.svg\" alt=\"Open In Colab\"/></a>"
      ]
    },
    {
      "cell_type": "code",
      "source": [
        "doc = \"\"\"\n",
        "      Readifarians are known for discovering the latest and greatest in technologies, \n",
        "                           mastering their nuances, and influencing our clients and our community\",\"content\":\n",
        "                           \"<HTML><p>Readify helps organizations innovate with technology by providing high \n",
        "                           value software and digital services. Since 2001, Readify has a strong record of helping \n",
        "                           customers in a range of industries to develop and support innovative software projects. \n",
        "                           We use agile principles and practices to form autonomous, collaborative and cross-functional \n",
        "                           teams with our customers. Readify embraces open source software, both as consumers and producers, \n",
        "                           and offer a generous paid professional development scheme. <br><br><strong>\n",
        "                           The Role</strong><br><br>As a Senior Software Developer you'll provide our clients with \n",
        "                           an extremely high level of technical expertise and represent Readify as a \n",
        "                           technical expert in the wider community. You'll have the chance to make an \n",
        "                           impact in the development of complex, disruptive solutions for a wide range of organizations.\n",
        "                           <br><br>You will be able to apply your passion for technology and problem solving, \n",
        "                           using the latest, cutting edge technologies whilst working alongside and learning from talented, \n",
        "                           knowledgeable and experienced software development consultants. \n",
        "                           <br><br>You will have the opportunity to shape the way that companies deliver software \n",
        "                           and to work with people who believe in routinely shipping quality software to production. \n",
        "                           You will need the humility to listen to customers and learn from your peers. <br><br>\n",
        "                           This is a great role for someone who is self-motivated and loves seeing clients excited about \n",
        "                           solutions to their business problems. As a consulting organization, there may be the opportunity \n",
        "                           to travel interstate and collaborate with your interstate colleagues.<br><br><strong>\n",
        "                           The Responsibilities</strong><br><br>* Design, develop, test and deliver custom software \n",
        "                           solutions <br><br>* Directly collaborate with clients on a daily basis<br><br>* \n",
        "                           Form part of an elite delivery team. \n",
        "                           They will support you and you will be expected to support them. \n",
        "                           <br><br><strong>Desired Skills and \n",
        "                           Experience</strong><br><br>More than any other skill, \n",
        "                           we value a willingness to learn and a positive attitude. \n",
        "                           You'll need to be able to adapt to a wide range of technologies in this role, \n",
        "                           but we'll support you every step of the way. We expect strong communication skills, \n",
        "                           deep experience with both front-end and server-side development, \n",
        "                           and experience with agile software development. We don&rsquo;t \n",
        "                           require specific framework or language experience, \n",
        "                           however we expect candidates to have an interest in skilling up in the .Net stack if \n",
        "                           they haven&rsquo;t yet. &nbsp;</p>\\n<p>We expect you&rsquo;ll have used <em>some</em> of the \n",
        "                           following technologies and frameworks to deliver complete solutions:</p>\\n<ul>\\n<\n",
        "                           li>Javascript / Typescript</li>\\n<li>React / Angular / Vue</li>\\n<li>WebPack</li>\\n<li>HTML5 \n",
        "                           and CSS3 (Bootstrap, Bulma, etc)</li>\\n<li>Testing frameworks (Karma, Jasmine, Mocha, Jest etc)</li>\\n<li>Continuous Integration (CI) / Continuous Delivery (CD) techniques</li>\\n<li>Strong experience with a server side programming language (C#, Go, Java, Ruby, Python, Rust, Kotlin, F#, Node etc)</li>\\n<li>Experience with Agile delivery methods</li>\\n</ul>\\n<p>For bonus points, you may also have hands-on experience with the following:</p>\\n<ul>\\n<li>Apache Cordova / React Native / Xamarin</li>\\n<li>DevOps and Cloud services using AWS / Azure (ARM, CloudFormation)</li>\\n<li>Experience consulting</li>\\n</ul>\\n<p><br><strong>Benefits</strong></p>\\n<ul>\\n<li>Work with some of the best, most well-known minds in software development</li>\\n<li>Less time in meetings, more time shipping</li>\\n<li>20 days / year of Paid Professional Development</li>\\n<li>Profit Share Scheme</li>\\n<li>Mobile, internet and software allowance</li>\\n<li>$4,200 toolkit allowance renewed every 2 years</li>\\n<li>Purchased annual leave scheme</li>\\n</ul></HTML> \n",
        "                           Senior Developer | SA\n",
        "<HTML><p>Readify helps organizations innovate with technology by providing high value software and digital services. Since 2001, Readify has a strong record of helping customers in a range of industries to develop and support innovative software projects. We use agile principles and practices to form autonomous, collaborative and cross-functional teams with our customers. Readify embraces open source software, both as consumers and producers, and offer a generous paid professional development scheme. <br><br><strong>The Role</strong><br><br>As a Senior Software Developer you'll provide our clients with an extremely high level of technical expertise and represent Readify as a technical expert in the wider community. You'll have the chance to make an impact in the development of complex, disruptive solutions for a wide range of organizations.<br><br>You will be able to apply your passion for technology and problem solving, using the latest, cutting edge technologies whilst working alongside and learning from talented, knowledgeable and experienced software development consultants. <br><br>You will have the opportunity to shape the way that companies deliver software and to work with people who believe in routinely shipping quality software to production. You will need the humility to listen to customers and learn from your peers. <br><br>This is a great role for someone who is self-motivated and loves seeing clients excited about solutions to their business problems. As a consulting organization, there may be the opportunity to travel interstate and collaborate with your interstate colleagues.<br><br><strong>The Responsibilities</strong><br><br>* Design, develop, test and deliver custom software solutions <br><br>* Directly collaborate with clients on a daily basis<br><br>* Form part of an elite delivery team. They will support you and you will be expected to support them. <br><br><strong>Desired Skills and Experience</strong><br><br>More than any other skill, we value a willingness to learn and a positive attitude. You'll need to be able to adapt to a wide range of technologies in this role, but we'll support you every step of the way. We expect strong communication skills, deep experience with both front-end and server-side development, and experience with agile software development. We don&rsquo;t require specific framework or language experience, however we expect candidates to have an interest in skilling up in the .Net stack if they haven&rsquo;t yet. &nbsp;</p>\n",
        "<p>We expect you&rsquo;ll have used <em>some</em> of the following technologies and frameworks to deliver complete solutions:</p>\n",
        "<ul>\n",
        "<li>Javascript / Typescript</li>\n",
        "<li>React / Angular / Vue</li>\n",
        "<li>WebPack</li>\n",
        "<li>HTML5 and CSS3 (Bootstrap, Bulma, etc)</li>\n",
        "<li>Testing frameworks (Karma, Jasmine, Mocha, Jest etc)</li>\n",
        "<li>Continuous Integration (CI) / Continuous Delivery (CD) techniques</li>\n",
        "<li>Strong experience with a server side programming language (C#, Go, Java, Ruby, Python, Rust, Kotlin, F#, Node etc)</li>\n",
        "<li>Experience with Agile delivery methods</li>\n",
        "</ul>\n",
        "<p>For bonus points, you may also have hands-on experience with the following:</p>\n",
        "<ul>\n",
        "<li>Apache Cordova / React Native / Xamarin</li>\n",
        "<li>DevOps and Cloud services using AWS / Azure (ARM, CloudFormation)</li>\n",
        "<li>Experience consulting</li>\n",
        "</ul>\n",
        "<p><br><strong>Benefits</strong></p>\n",
        "<ul>\n",
        "<li>Work with some of the best, most well-known minds in software development</li>\n",
        "<li>Less time in meetings, more time shipping</li>\n",
        "<li>20 days / year of Paid Professional Development</li>\n",
        "<li>Profit Share Scheme</li>\n",
        "<li>Mobile, internet and software allowance</li>\n",
        "<li>$4,200 toolkit allowance renewed every 2 years</li>\n",
        "<li>Purchased annual leave scheme</li>\n",
        "</ul></HTML>\n",
        "      \"\"\""
      ],
      "metadata": {
        "id": "O4d89b-G0bCs"
      },
      "execution_count": 7,
      "outputs": []
    },
    {
      "cell_type": "code",
      "source": [
        "\n",
        "from sklearn.feature_extraction.text import CountVectorizer\n",
        "\n",
        "n_gram_range = (1, 1)\n",
        "stop_words = \"english\"\n",
        "\n",
        "# Extract candidate words/phrases\n",
        "count = CountVectorizer(ngram_range=n_gram_range, stop_words=stop_words).fit([doc])\n",
        "candidates = count.get_feature_names()"
      ],
      "metadata": {
        "colab": {
          "base_uri": "https://localhost:8080/"
        },
        "id": "uWLMsjJ02RAA",
        "outputId": "6abf6bba-0550-4163-b503-79f6bc1ea573"
      },
      "execution_count": 11,
      "outputs": [
        {
          "output_type": "stream",
          "name": "stderr",
          "text": [
            "/usr/local/lib/python3.7/dist-packages/sklearn/utils/deprecation.py:87: FutureWarning: Function get_feature_names is deprecated; get_feature_names is deprecated in 1.0 and will be removed in 1.2. Please use get_feature_names_out instead.\n",
            "  warnings.warn(msg, category=FutureWarning)\n"
          ]
        }
      ]
    },
    {
      "cell_type": "code",
      "source": [
        "!pip install sentence-transformers"
      ],
      "metadata": {
        "colab": {
          "base_uri": "https://localhost:8080/"
        },
        "id": "3nFrX-zb0xdD",
        "outputId": "ed836681-aa02-4cc7-b29b-54c84eb01f5b"
      },
      "execution_count": 3,
      "outputs": [
        {
          "output_type": "stream",
          "name": "stdout",
          "text": [
            "Looking in indexes: https://pypi.org/simple, https://us-python.pkg.dev/colab-wheels/public/simple/\n",
            "Collecting sentence-transformers\n",
            "  Downloading sentence-transformers-2.2.0.tar.gz (79 kB)\n",
            "\u001b[K     |████████████████████████████████| 79 kB 4.9 MB/s \n",
            "\u001b[?25hCollecting transformers<5.0.0,>=4.6.0\n",
            "  Downloading transformers-4.19.2-py3-none-any.whl (4.2 MB)\n",
            "\u001b[K     |████████████████████████████████| 4.2 MB 14.6 MB/s \n",
            "\u001b[?25hRequirement already satisfied: tqdm in /usr/local/lib/python3.7/dist-packages (from sentence-transformers) (4.64.0)\n",
            "Requirement already satisfied: torch>=1.6.0 in /usr/local/lib/python3.7/dist-packages (from sentence-transformers) (1.11.0+cu113)\n",
            "Requirement already satisfied: torchvision in /usr/local/lib/python3.7/dist-packages (from sentence-transformers) (0.12.0+cu113)\n",
            "Requirement already satisfied: numpy in /usr/local/lib/python3.7/dist-packages (from sentence-transformers) (1.21.6)\n",
            "Requirement already satisfied: scikit-learn in /usr/local/lib/python3.7/dist-packages (from sentence-transformers) (1.0.2)\n",
            "Requirement already satisfied: scipy in /usr/local/lib/python3.7/dist-packages (from sentence-transformers) (1.4.1)\n",
            "Requirement already satisfied: nltk in /usr/local/lib/python3.7/dist-packages (from sentence-transformers) (3.2.5)\n",
            "Collecting sentencepiece\n",
            "  Downloading sentencepiece-0.1.96-cp37-cp37m-manylinux_2_17_x86_64.manylinux2014_x86_64.whl (1.2 MB)\n",
            "\u001b[K     |████████████████████████████████| 1.2 MB 45.3 MB/s \n",
            "\u001b[?25hCollecting huggingface-hub\n",
            "  Downloading huggingface_hub-0.7.0-py3-none-any.whl (86 kB)\n",
            "\u001b[K     |████████████████████████████████| 86 kB 6.5 MB/s \n",
            "\u001b[?25hRequirement already satisfied: typing-extensions in /usr/local/lib/python3.7/dist-packages (from torch>=1.6.0->sentence-transformers) (4.2.0)\n",
            "Requirement already satisfied: regex!=2019.12.17 in /usr/local/lib/python3.7/dist-packages (from transformers<5.0.0,>=4.6.0->sentence-transformers) (2019.12.20)\n",
            "Requirement already satisfied: filelock in /usr/local/lib/python3.7/dist-packages (from transformers<5.0.0,>=4.6.0->sentence-transformers) (3.7.0)\n",
            "Requirement already satisfied: requests in /usr/local/lib/python3.7/dist-packages (from transformers<5.0.0,>=4.6.0->sentence-transformers) (2.23.0)\n",
            "Requirement already satisfied: importlib-metadata in /usr/local/lib/python3.7/dist-packages (from transformers<5.0.0,>=4.6.0->sentence-transformers) (4.11.4)\n",
            "Requirement already satisfied: packaging>=20.0 in /usr/local/lib/python3.7/dist-packages (from transformers<5.0.0,>=4.6.0->sentence-transformers) (21.3)\n",
            "Collecting pyyaml>=5.1\n",
            "  Downloading PyYAML-6.0-cp37-cp37m-manylinux_2_5_x86_64.manylinux1_x86_64.manylinux_2_12_x86_64.manylinux2010_x86_64.whl (596 kB)\n",
            "\u001b[K     |████████████████████████████████| 596 kB 52.7 MB/s \n",
            "\u001b[?25hCollecting tokenizers!=0.11.3,<0.13,>=0.11.1\n",
            "  Downloading tokenizers-0.12.1-cp37-cp37m-manylinux_2_12_x86_64.manylinux2010_x86_64.whl (6.6 MB)\n",
            "\u001b[K     |████████████████████████████████| 6.6 MB 48.0 MB/s \n",
            "\u001b[?25hRequirement already satisfied: pyparsing!=3.0.5,>=2.0.2 in /usr/local/lib/python3.7/dist-packages (from packaging>=20.0->transformers<5.0.0,>=4.6.0->sentence-transformers) (3.0.9)\n",
            "Requirement already satisfied: zipp>=0.5 in /usr/local/lib/python3.7/dist-packages (from importlib-metadata->transformers<5.0.0,>=4.6.0->sentence-transformers) (3.8.0)\n",
            "Requirement already satisfied: six in /usr/local/lib/python3.7/dist-packages (from nltk->sentence-transformers) (1.15.0)\n",
            "Requirement already satisfied: urllib3!=1.25.0,!=1.25.1,<1.26,>=1.21.1 in /usr/local/lib/python3.7/dist-packages (from requests->transformers<5.0.0,>=4.6.0->sentence-transformers) (1.24.3)\n",
            "Requirement already satisfied: chardet<4,>=3.0.2 in /usr/local/lib/python3.7/dist-packages (from requests->transformers<5.0.0,>=4.6.0->sentence-transformers) (3.0.4)\n",
            "Requirement already satisfied: idna<3,>=2.5 in /usr/local/lib/python3.7/dist-packages (from requests->transformers<5.0.0,>=4.6.0->sentence-transformers) (2.10)\n",
            "Requirement already satisfied: certifi>=2017.4.17 in /usr/local/lib/python3.7/dist-packages (from requests->transformers<5.0.0,>=4.6.0->sentence-transformers) (2022.5.18.1)\n",
            "Requirement already satisfied: threadpoolctl>=2.0.0 in /usr/local/lib/python3.7/dist-packages (from scikit-learn->sentence-transformers) (3.1.0)\n",
            "Requirement already satisfied: joblib>=0.11 in /usr/local/lib/python3.7/dist-packages (from scikit-learn->sentence-transformers) (1.1.0)\n",
            "Requirement already satisfied: pillow!=8.3.*,>=5.3.0 in /usr/local/lib/python3.7/dist-packages (from torchvision->sentence-transformers) (7.1.2)\n",
            "Building wheels for collected packages: sentence-transformers\n",
            "  Building wheel for sentence-transformers (setup.py) ... \u001b[?25l\u001b[?25hdone\n",
            "  Created wheel for sentence-transformers: filename=sentence_transformers-2.2.0-py3-none-any.whl size=120747 sha256=3722c232bbfdfca6decfd45274498c3fbb6f668193ad9e06a9cb94561da364af\n",
            "  Stored in directory: /root/.cache/pip/wheels/83/c0/df/b6873ab7aac3f2465aa9144b6b4c41c4391cfecc027c8b07e7\n",
            "Successfully built sentence-transformers\n",
            "Installing collected packages: pyyaml, tokenizers, huggingface-hub, transformers, sentencepiece, sentence-transformers\n",
            "  Attempting uninstall: pyyaml\n",
            "    Found existing installation: PyYAML 3.13\n",
            "    Uninstalling PyYAML-3.13:\n",
            "      Successfully uninstalled PyYAML-3.13\n",
            "Successfully installed huggingface-hub-0.7.0 pyyaml-6.0 sentence-transformers-2.2.0 sentencepiece-0.1.96 tokenizers-0.12.1 transformers-4.19.2\n"
          ]
        }
      ]
    },
    {
      "cell_type": "markdown",
      "source": [
        "NOTE: There are many pre-trained BERT-based models that you can use for keyword extraction. However, I would advise you to use either distilbert — base-nli-stsb-mean-tokens or xlm-r-distilroberta-base-paraphase-v1 as they have shown great performance in semantic similarity and paraphrase identification respectively."
      ],
      "metadata": {
        "id": "RRGeCWxx1nS7"
      }
    },
    {
      "cell_type": "code",
      "source": [
        "from sentence_transformers import SentenceTransformer\n",
        "\n",
        "model = SentenceTransformer('distilbert-base-nli-mean-tokens')\n"
      ],
      "metadata": {
        "id": "gXbvjcJM1OJc"
      },
      "execution_count": 8,
      "outputs": []
    },
    {
      "cell_type": "code",
      "source": [
        "doc_embedding = model.encode([doc])\n",
        "candidate_embeddings = model.encode(candidates)"
      ],
      "metadata": {
        "id": "dW0YG7RM2Ux7"
      },
      "execution_count": 12,
      "outputs": []
    },
    {
      "cell_type": "code",
      "source": [
        "from sklearn.metrics.pairwise import cosine_similarity\n",
        "\n",
        "top_n = 50\n",
        "distances = cosine_similarity(doc_embedding, candidate_embeddings)\n",
        "keywords = [candidates[index] for index in distances.argsort()[0][-top_n:]]"
      ],
      "metadata": {
        "id": "w7CKSFRC1hFp"
      },
      "execution_count": 15,
      "outputs": []
    },
    {
      "cell_type": "code",
      "source": [
        "print(keywords)"
      ],
      "metadata": {
        "colab": {
          "base_uri": "https://localhost:8080/"
        },
        "id": "yfDFRouI1rYF",
        "outputId": "2c68e869-5c0e-4e30-8820-fe638207137f"
      },
      "execution_count": 16,
      "outputs": [
        {
          "output_type": "stream",
          "name": "stdout",
          "text": [
            "['teams', 'embraces', 'benefits', 'strong', 'skilling', 'skill', 'experienced', 'consumers', 'team', 'helps', 'industries', 'producers', 'annual', 'helping', 'learning', 'technology', 'routinely', 'renewed', 'daily', 'collaborative', 'customers', 'software', 'agile', 'java', 'companies', 'server', 'greatest', 'developer', 'loves', 'passion', 'collaborate', 'consultants', 'html', 'webpack', 'internet', 'html5', 'technologies', 'mastering', 'generous', 'toolkit', 'innovative', 'talented', 'elite', 'professional', 'excited', 'expert', 'colleagues', 'javascript', 'knowledgeable', 'innovate']\n"
          ]
        }
      ]
    }
  ]
}