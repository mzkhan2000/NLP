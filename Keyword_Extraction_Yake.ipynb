{
  "nbformat": 4,
  "nbformat_minor": 0,
  "metadata": {
    "colab": {
      "name": "Keyword_Extraction_Yake.ipynb",
      "provenance": [],
      "authorship_tag": "ABX9TyMK5rbu40v0QFk5ZHJnExGi",
      "include_colab_link": true
    },
    "kernelspec": {
      "name": "python3",
      "display_name": "Python 3"
    },
    "language_info": {
      "name": "python"
    }
  },
  "cells": [
    {
      "cell_type": "markdown",
      "metadata": {
        "id": "view-in-github",
        "colab_type": "text"
      },
      "source": [
        "<a href=\"https://colab.research.google.com/github/mzkhan2000/NLP/blob/main/Keyword_Extraction_Yake.ipynb\" target=\"_parent\"><img src=\"https://colab.research.google.com/assets/colab-badge.svg\" alt=\"Open In Colab\"/></a>"
      ]
    },
    {
      "cell_type": "code",
      "execution_count": 2,
      "metadata": {
        "colab": {
          "base_uri": "https://localhost:8080/"
        },
        "id": "yRsJbFFvK9sw",
        "outputId": "263e61dd-6d02-48d6-aa74-14cb847e002a"
      },
      "outputs": [
        {
          "output_type": "stream",
          "name": "stdout",
          "text": [
            "Looking in indexes: https://pypi.org/simple, https://us-python.pkg.dev/colab-wheels/public/simple/\n",
            "Collecting yake\n",
            "  Downloading yake-0.4.8-py2.py3-none-any.whl (60 kB)\n",
            "\u001b[K     |████████████████████████████████| 60 kB 3.9 MB/s \n",
            "\u001b[?25hRequirement already satisfied: tabulate in /usr/local/lib/python3.7/dist-packages (from yake) (0.8.9)\n",
            "Collecting segtok\n",
            "  Downloading segtok-1.5.11-py3-none-any.whl (24 kB)\n",
            "Collecting jellyfish\n",
            "  Downloading jellyfish-0.9.0.tar.gz (132 kB)\n",
            "\u001b[K     |████████████████████████████████| 132 kB 20.4 MB/s \n",
            "\u001b[?25hRequirement already satisfied: networkx in /usr/local/lib/python3.7/dist-packages (from yake) (2.6.3)\n",
            "Requirement already satisfied: numpy in /usr/local/lib/python3.7/dist-packages (from yake) (1.21.6)\n",
            "Requirement already satisfied: click>=6.0 in /usr/local/lib/python3.7/dist-packages (from yake) (7.1.2)\n",
            "Requirement already satisfied: regex in /usr/local/lib/python3.7/dist-packages (from segtok->yake) (2022.6.2)\n",
            "Building wheels for collected packages: jellyfish\n",
            "  Building wheel for jellyfish (setup.py) ... \u001b[?25l\u001b[?25hdone\n",
            "  Created wheel for jellyfish: filename=jellyfish-0.9.0-cp37-cp37m-linux_x86_64.whl size=73988 sha256=452170de7ff6b943478dd1da8d842c2e514f7d2d85b54abc9653375e58c59e6d\n",
            "  Stored in directory: /root/.cache/pip/wheels/fe/99/4e/646ce766df0d070b0ef04db27aa11543e2767fda3075aec31b\n",
            "Successfully built jellyfish\n",
            "Installing collected packages: segtok, jellyfish, yake\n",
            "Successfully installed jellyfish-0.9.0 segtok-1.5.11 yake-0.4.8\n"
          ]
        }
      ],
      "source": [
        "!pip install yake"
      ]
    },
    {
      "cell_type": "code",
      "source": [
        "import yake\n",
        "kw_extractor = yake.KeywordExtractor()"
      ],
      "metadata": {
        "id": "ctKPyj-ILWqL"
      },
      "execution_count": 3,
      "outputs": []
    },
    {
      "cell_type": "code",
      "source": [
        "# Create model\n",
        "language = \"en\"\n",
        "max_ngram_size = 2\n",
        "deduplication_threshold = 0.9\n",
        "numOfKeywords = 10\n",
        "custom_kw_extractor = yake.KeywordExtractor(lan=language, n=max_ngram_size, dedupLim=deduplication_threshold, top=numOfKeywords, features=None)"
      ],
      "metadata": {
        "id": "5D86kanfLYPl"
      },
      "execution_count": 11,
      "outputs": []
    },
    {
      "cell_type": "code",
      "source": [
        "text_Airborne = \"\"\"Airborne electromagnetic (EM) methods were developed in the early 1950s, mostly by Canadian mining exploration companies as a means of economically carrying out prospecting for sulfide deposits associated with volcanics in resistive shield areas. Present interpretation\\ntechniques are based on the use of nomograms but the approach is easily amenable to digital processing. For highly accurate interpretation, however, it is necessary to develop quantitative interpretation techniques that can make full use of all the data available. Inverse theory has been used for\\ninterpretation with great success in most geophysical disciplines; however, in airborne EM surveying, inversion has only been used for the interpretation of airborne EM data using half-space and one-layer models. By introducing some approximations to the rectangular thin-plate model, it is now\\npossible to apply inverse theory to the interpretation of time-domain EM data. This approach provides estimates of the parameter errors, the correlation matrix, and a means of assessing the validity of the model. Synthetic profile data are used to demonstrate the validity of the method. The results\\nof the inversion of real anomalies are compared with ground geophysical survey interpretation and drillhole data. The inversion results agree with the known geology of the area and the ground geophysical survey interpretation\"\"\""
      ],
      "metadata": {
        "id": "fpZD-s_TLn2s"
      },
      "execution_count": 5,
      "outputs": []
    },
    {
      "cell_type": "code",
      "source": [
        "text_gravity = \"\"\"Geoscience Australia is the custodian of the most comprehensive publicly available Australian airborne magnetic, gamma-ray, seismic, electromagnetic and gravity data sets. The airborne geophysics data set contains approximately 34 million line kilometres of data, which, at current prices, would cost approximately $197 million to acquire. The gravity data set contains more than 1.57 million reliable onshore stations gathered during more than 1800 surveys. The collection also includes a large number of seismic surveys from Australia's offshore basins. The onshore component of this data set was previously approved for RDSI for 8 TB. This proposal extends the collection to 150TB. The data types and access methods for the Offshore and Onshore data are identical\"\"\" "
      ],
      "metadata": {
        "id": "0qY5WI_6N15c"
      },
      "execution_count": 8,
      "outputs": []
    },
    {
      "cell_type": "code",
      "source": [
        "text = text_gravity\n",
        "keywords = custom_kw_extractor.extract_keywords(text)"
      ],
      "metadata": {
        "id": "sHiN5fwdLs2q"
      },
      "execution_count": 12,
      "outputs": []
    },
    {
      "cell_type": "code",
      "source": [
        "print(keywords)"
      ],
      "metadata": {
        "colab": {
          "base_uri": "https://localhost:8080/"
        },
        "id": "tnhL5nKDLzuE",
        "outputId": "5cc868e0-87ea-4151-cd33-2f4221476d20"
      },
      "execution_count": 13,
      "outputs": [
        {
          "output_type": "stream",
          "name": "stdout",
          "text": [
            "[('Australian airborne', 0.022627704143804852), ('data set', 0.03612181082196081), ('Geoscience Australia', 0.042603057604023324), ('comprehensive publicly', 0.04362525303666398), ('data', 0.051741488682156056), ('airborne magnetic', 0.05561231764862294), ('gravity data', 0.07184529936941587), ('Australian', 0.07357973227709291), ('set', 0.08998074431330405), ('data sets', 0.10836543246588243)]\n"
          ]
        }
      ]
    },
    {
      "cell_type": "code",
      "source": [
        "text = text_Airborne\n",
        "keywords = custom_kw_extractor.extract_keywords(text)"
      ],
      "metadata": {
        "id": "MlJj_TjMOobJ"
      },
      "execution_count": 14,
      "outputs": []
    },
    {
      "cell_type": "code",
      "source": [
        "print(keywords)"
      ],
      "metadata": {
        "colab": {
          "base_uri": "https://localhost:8080/"
        },
        "id": "9kVRTOt9OrTx",
        "outputId": "c720bdfd-fd11-4e35-c47f-bff461f519f5"
      },
      "execution_count": 15,
      "outputs": [
        {
          "output_type": "stream",
          "name": "stdout",
          "text": [
            "[('Canadian mining', 0.012121465000600733), ('mining exploration', 0.03397904696366831), ('exploration companies', 0.03397904696366831), ('economically carrying', 0.03397904696366831), ('sulfide deposits', 0.03397904696366831), ('resistive shield', 0.03397904696366831), ('interpretation', 0.03613940377516351), ('Airborne electromagnetic', 0.05479354296454727), ('interpretation techniques', 0.05544593299574618), ('Canadian', 0.06606519916689386)]\n"
          ]
        }
      ]
    }
  ]
}