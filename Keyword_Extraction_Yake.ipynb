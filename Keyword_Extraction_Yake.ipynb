{
  "nbformat": 4,
  "nbformat_minor": 0,
  "metadata": {
    "colab": {
      "name": "Keyword_Extraction_Yake.ipynb",
      "provenance": [],
      "authorship_tag": "ABX9TyNR4nIridYNERdbwkB0AB3l",
      "include_colab_link": true
    },
    "kernelspec": {
      "name": "python3",
      "display_name": "Python 3"
    },
    "language_info": {
      "name": "python"
    }
  },
  "cells": [
    {
      "cell_type": "markdown",
      "metadata": {
        "id": "view-in-github",
        "colab_type": "text"
      },
      "source": [
        "<a href=\"https://colab.research.google.com/github/mzkhan2000/NLP/blob/main/Keyword_Extraction_Yake.ipynb\" target=\"_parent\"><img src=\"https://colab.research.google.com/assets/colab-badge.svg\" alt=\"Open In Colab\"/></a>"
      ]
    },
    {
      "cell_type": "code",
      "execution_count": 2,
      "metadata": {
        "colab": {
          "base_uri": "https://localhost:8080/"
        },
        "id": "yRsJbFFvK9sw",
        "outputId": "263e61dd-6d02-48d6-aa74-14cb847e002a"
      },
      "outputs": [
        {
          "output_type": "stream",
          "name": "stdout",
          "text": [
            "Looking in indexes: https://pypi.org/simple, https://us-python.pkg.dev/colab-wheels/public/simple/\n",
            "Collecting yake\n",
            "  Downloading yake-0.4.8-py2.py3-none-any.whl (60 kB)\n",
            "\u001b[K     |████████████████████████████████| 60 kB 3.9 MB/s \n",
            "\u001b[?25hRequirement already satisfied: tabulate in /usr/local/lib/python3.7/dist-packages (from yake) (0.8.9)\n",
            "Collecting segtok\n",
            "  Downloading segtok-1.5.11-py3-none-any.whl (24 kB)\n",
            "Collecting jellyfish\n",
            "  Downloading jellyfish-0.9.0.tar.gz (132 kB)\n",
            "\u001b[K     |████████████████████████████████| 132 kB 20.4 MB/s \n",
            "\u001b[?25hRequirement already satisfied: networkx in /usr/local/lib/python3.7/dist-packages (from yake) (2.6.3)\n",
            "Requirement already satisfied: numpy in /usr/local/lib/python3.7/dist-packages (from yake) (1.21.6)\n",
            "Requirement already satisfied: click>=6.0 in /usr/local/lib/python3.7/dist-packages (from yake) (7.1.2)\n",
            "Requirement already satisfied: regex in /usr/local/lib/python3.7/dist-packages (from segtok->yake) (2022.6.2)\n",
            "Building wheels for collected packages: jellyfish\n",
            "  Building wheel for jellyfish (setup.py) ... \u001b[?25l\u001b[?25hdone\n",
            "  Created wheel for jellyfish: filename=jellyfish-0.9.0-cp37-cp37m-linux_x86_64.whl size=73988 sha256=452170de7ff6b943478dd1da8d842c2e514f7d2d85b54abc9653375e58c59e6d\n",
            "  Stored in directory: /root/.cache/pip/wheels/fe/99/4e/646ce766df0d070b0ef04db27aa11543e2767fda3075aec31b\n",
            "Successfully built jellyfish\n",
            "Installing collected packages: segtok, jellyfish, yake\n",
            "Successfully installed jellyfish-0.9.0 segtok-1.5.11 yake-0.4.8\n"
          ]
        }
      ],
      "source": [
        "!pip install yake"
      ]
    },
    {
      "cell_type": "code",
      "source": [
        "import yake\n",
        "kw_extractor = yake.KeywordExtractor()"
      ],
      "metadata": {
        "id": "ctKPyj-ILWqL"
      },
      "execution_count": 3,
      "outputs": []
    },
    {
      "cell_type": "code",
      "source": [
        "# Create model\n",
        "language = \"en\"\n",
        "max_ngram_size = 3\n",
        "deduplication_threshold = 0.9\n",
        "numOfKeywords = 10\n",
        "custom_kw_extractor = yake.KeywordExtractor(lan=language, n=max_ngram_size, dedupLim=deduplication_threshold, top=numOfKeywords, features=None)"
      ],
      "metadata": {
        "id": "5D86kanfLYPl"
      },
      "execution_count": 4,
      "outputs": []
    },
    {
      "cell_type": "code",
      "source": [
        "text_Airborne = \"\"\"Airborne electromagnetic (EM) methods were developed in the early 1950s, mostly by Canadian mining exploration companies as a means of economically carrying out prospecting for sulfide deposits associated with volcanics in resistive shield areas. Present interpretation\\ntechniques are based on the use of nomograms but the approach is easily amenable to digital processing. For highly accurate interpretation, however, it is necessary to develop quantitative interpretation techniques that can make full use of all the data available. Inverse theory has been used for\\ninterpretation with great success in most geophysical disciplines; however, in airborne EM surveying, inversion has only been used for the interpretation of airborne EM data using half-space and one-layer models. By introducing some approximations to the rectangular thin-plate model, it is now\\npossible to apply inverse theory to the interpretation of time-domain EM data. This approach provides estimates of the parameter errors, the correlation matrix, and a means of assessing the validity of the model. Synthetic profile data are used to demonstrate the validity of the method. The results\\nof the inversion of real anomalies are compared with ground geophysical survey interpretation and drillhole data. The inversion results agree with the known geology of the area and the ground geophysical survey interpretation\"\"\""
      ],
      "metadata": {
        "id": "fpZD-s_TLn2s"
      },
      "execution_count": 5,
      "outputs": []
    },
    {
      "cell_type": "code",
      "source": [
        "text = text_Airborne\n",
        "keywords = custom_kw_extractor.extract_keywords(text)"
      ],
      "metadata": {
        "id": "sHiN5fwdLs2q"
      },
      "execution_count": 6,
      "outputs": []
    },
    {
      "cell_type": "code",
      "source": [
        "print(keywords)"
      ],
      "metadata": {
        "colab": {
          "base_uri": "https://localhost:8080/"
        },
        "id": "tnhL5nKDLzuE",
        "outputId": "317e706e-ca5c-41d3-ce5b-fea8270aeb07"
      },
      "execution_count": 7,
      "outputs": [
        {
          "output_type": "stream",
          "name": "stdout",
          "text": [
            "[('Canadian mining exploration', 0.002291292611654233), ('mining exploration companies', 0.006522629639804471), ('Canadian mining', 0.012121465000600733), ('resistive shield areas', 0.01934086136838621), ('mining exploration', 0.03397904696366831), ('exploration companies', 0.03397904696366831), ('economically carrying', 0.03397904696366831), ('carrying out prospecting', 0.03397904696366831), ('prospecting for sulfide', 0.03397904696366831), ('sulfide deposits', 0.03397904696366831)]\n"
          ]
        }
      ]
    }
  ]
}